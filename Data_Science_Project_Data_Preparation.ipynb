{
 "cells": [
  {
   "cell_type": "code",
   "execution_count": 1,
   "metadata": {},
   "outputs": [],
   "source": [
    "import os\n",
    "import pandas as pd\n",
    "import numpy as np"
   ]
  },
  {
   "cell_type": "code",
   "execution_count": 2,
   "metadata": {},
   "outputs": [],
   "source": [
    "os.chdir('D:/OneDrive/MSC/Sem 01 - Data Science/Class Project/Final')"
   ]
  },
  {
   "cell_type": "code",
   "execution_count": 3,
   "metadata": {},
   "outputs": [
    {
     "name": "stdout",
     "output_type": "stream",
     "text": [
      "2020_Jan_C.xlsx\n",
      "2020_Jan_R.xlsx\n",
      "2502C430\n",
      "ABFEB430\n",
      "Analysis.pbix\n",
      "Area_Mapping.xlsx\n",
      "B782C430\n",
      "Capture.JPG\n",
      "Capture2.JPG\n",
      "Capture3.JPG\n",
      "classify_delay.csv\n",
      "classify_delay_1.csv\n",
      "classify_delay_2.csv\n",
      "classify_delay_mf.csv\n",
      "Cleared_Faults.xlsx\n",
      "Fault_analysis.pbix\n",
      "Fault_analysis.pdf\n",
      "LEA_Mapping_New.xlsx\n",
      "MSAN Wise CusBase.xlsx\n",
      "Reported_Faults.xlsx\n",
      "Service Types.xlsx\n"
     ]
    }
   ],
   "source": [
    "!ls"
   ]
  },
  {
   "cell_type": "code",
   "execution_count": 4,
   "metadata": {},
   "outputs": [],
   "source": [
    "df_reported=pd.read_excel('Reported_Faults.xlsx')"
   ]
  },
  {
   "cell_type": "code",
   "execution_count": 5,
   "metadata": {},
   "outputs": [],
   "source": [
    "df_cleared=pd.read_excel('Cleared_Faults.xlsx')"
   ]
  },
  {
   "cell_type": "code",
   "execution_count": 6,
   "metadata": {},
   "outputs": [
    {
     "data": {
      "text/html": [
       "<div>\n",
       "<style scoped>\n",
       "    .dataframe tbody tr th:only-of-type {\n",
       "        vertical-align: middle;\n",
       "    }\n",
       "\n",
       "    .dataframe tbody tr th {\n",
       "        vertical-align: top;\n",
       "    }\n",
       "\n",
       "    .dataframe thead th {\n",
       "        text-align: right;\n",
       "    }\n",
       "</style>\n",
       "<table border=\"1\" class=\"dataframe\">\n",
       "  <thead>\n",
       "    <tr style=\"text-align: right;\">\n",
       "      <th></th>\n",
       "      <th>PROM_NUMBER</th>\n",
       "      <th>PROM_REPORTED</th>\n",
       "      <th>OLD_FAULT_NO</th>\n",
       "      <th>OLD_PROB_CLEARED_DATE</th>\n",
       "    </tr>\n",
       "  </thead>\n",
       "  <tbody>\n",
       "    <tr>\n",
       "      <th>count</th>\n",
       "      <td>7.520580e+05</td>\n",
       "      <td>752058.000000</td>\n",
       "      <td>6.423930e+05</td>\n",
       "      <td>642137.000000</td>\n",
       "    </tr>\n",
       "    <tr>\n",
       "      <th>mean</th>\n",
       "      <td>3.170202e+07</td>\n",
       "      <td>43782.816631</td>\n",
       "      <td>3.035930e+07</td>\n",
       "      <td>43628.820586</td>\n",
       "    </tr>\n",
       "    <tr>\n",
       "      <th>std</th>\n",
       "      <td>2.200756e+05</td>\n",
       "      <td>26.097467</td>\n",
       "      <td>2.058747e+06</td>\n",
       "      <td>244.440549</td>\n",
       "    </tr>\n",
       "    <tr>\n",
       "      <th>min</th>\n",
       "      <td>3.132101e+07</td>\n",
       "      <td>43739.000637</td>\n",
       "      <td>9.916651e+06</td>\n",
       "      <td>40789.771644</td>\n",
       "    </tr>\n",
       "    <tr>\n",
       "      <th>25%</th>\n",
       "      <td>3.151156e+07</td>\n",
       "      <td>43760.369355</td>\n",
       "      <td>2.989315e+07</td>\n",
       "      <td>43589.420081</td>\n",
       "    </tr>\n",
       "    <tr>\n",
       "      <th>50%</th>\n",
       "      <td>3.170178e+07</td>\n",
       "      <td>43782.614462</td>\n",
       "      <td>3.123338e+07</td>\n",
       "      <td>43728.507616</td>\n",
       "    </tr>\n",
       "    <tr>\n",
       "      <th>75%</th>\n",
       "      <td>3.189311e+07</td>\n",
       "      <td>43804.401013</td>\n",
       "      <td>3.157259e+07</td>\n",
       "      <td>43768.767558</td>\n",
       "    </tr>\n",
       "    <tr>\n",
       "      <th>max</th>\n",
       "      <td>3.211026e+07</td>\n",
       "      <td>43830.999352</td>\n",
       "      <td>3.208471e+07</td>\n",
       "      <td>43835.443565</td>\n",
       "    </tr>\n",
       "  </tbody>\n",
       "</table>\n",
       "</div>"
      ],
      "text/plain": [
       "        PROM_NUMBER  PROM_REPORTED  OLD_FAULT_NO  OLD_PROB_CLEARED_DATE\n",
       "count  7.520580e+05  752058.000000  6.423930e+05          642137.000000\n",
       "mean   3.170202e+07   43782.816631  3.035930e+07           43628.820586\n",
       "std    2.200756e+05      26.097467  2.058747e+06             244.440549\n",
       "min    3.132101e+07   43739.000637  9.916651e+06           40789.771644\n",
       "25%    3.151156e+07   43760.369355  2.989315e+07           43589.420081\n",
       "50%    3.170178e+07   43782.614462  3.123338e+07           43728.507616\n",
       "75%    3.189311e+07   43804.401013  3.157259e+07           43768.767558\n",
       "max    3.211026e+07   43830.999352  3.208471e+07           43835.443565"
      ]
     },
     "execution_count": 6,
     "metadata": {},
     "output_type": "execute_result"
    }
   ],
   "source": [
    "df_reported.describe()"
   ]
  },
  {
   "cell_type": "code",
   "execution_count": 7,
   "metadata": {},
   "outputs": [
    {
     "data": {
      "text/html": [
       "<div>\n",
       "<style scoped>\n",
       "    .dataframe tbody tr th:only-of-type {\n",
       "        vertical-align: middle;\n",
       "    }\n",
       "\n",
       "    .dataframe tbody tr th {\n",
       "        vertical-align: top;\n",
       "    }\n",
       "\n",
       "    .dataframe thead th {\n",
       "        text-align: right;\n",
       "    }\n",
       "</style>\n",
       "<table border=\"1\" class=\"dataframe\">\n",
       "  <thead>\n",
       "    <tr style=\"text-align: right;\">\n",
       "      <th></th>\n",
       "      <th>PROM_NUMBER</th>\n",
       "      <th>PROM_CLEARED</th>\n",
       "      <th>FEEDBACK</th>\n",
       "    </tr>\n",
       "  </thead>\n",
       "  <tbody>\n",
       "    <tr>\n",
       "      <th>count</th>\n",
       "      <td>7.480100e+05</td>\n",
       "      <td>748010.000000</td>\n",
       "      <td>1.423200e+04</td>\n",
       "    </tr>\n",
       "    <tr>\n",
       "      <th>mean</th>\n",
       "      <td>3.169432e+07</td>\n",
       "      <td>43783.302456</td>\n",
       "      <td>7.807133e+36</td>\n",
       "    </tr>\n",
       "    <tr>\n",
       "      <th>std</th>\n",
       "      <td>2.243981e+05</td>\n",
       "      <td>26.221834</td>\n",
       "      <td>9.313749e+38</td>\n",
       "    </tr>\n",
       "    <tr>\n",
       "      <th>min</th>\n",
       "      <td>2.300236e+07</td>\n",
       "      <td>43739.006470</td>\n",
       "      <td>-5.000000e+00</td>\n",
       "    </tr>\n",
       "    <tr>\n",
       "      <th>25%</th>\n",
       "      <td>3.150256e+07</td>\n",
       "      <td>43760.634945</td>\n",
       "      <td>1.000000e+00</td>\n",
       "    </tr>\n",
       "    <tr>\n",
       "      <th>50%</th>\n",
       "      <td>3.169454e+07</td>\n",
       "      <td>43783.439491</td>\n",
       "      <td>5.000000e+00</td>\n",
       "    </tr>\n",
       "    <tr>\n",
       "      <th>75%</th>\n",
       "      <td>3.188747e+07</td>\n",
       "      <td>43804.706652</td>\n",
       "      <td>5.000000e+00</td>\n",
       "    </tr>\n",
       "    <tr>\n",
       "      <th>max</th>\n",
       "      <td>3.208272e+07</td>\n",
       "      <td>43830.992245</td>\n",
       "      <td>1.111111e+41</td>\n",
       "    </tr>\n",
       "  </tbody>\n",
       "</table>\n",
       "</div>"
      ],
      "text/plain": [
       "        PROM_NUMBER   PROM_CLEARED      FEEDBACK\n",
       "count  7.480100e+05  748010.000000  1.423200e+04\n",
       "mean   3.169432e+07   43783.302456  7.807133e+36\n",
       "std    2.243981e+05      26.221834  9.313749e+38\n",
       "min    2.300236e+07   43739.006470 -5.000000e+00\n",
       "25%    3.150256e+07   43760.634945  1.000000e+00\n",
       "50%    3.169454e+07   43783.439491  5.000000e+00\n",
       "75%    3.188747e+07   43804.706652  5.000000e+00\n",
       "max    3.208272e+07   43830.992245  1.111111e+41"
      ]
     },
     "execution_count": 7,
     "metadata": {},
     "output_type": "execute_result"
    }
   ],
   "source": [
    "df_cleared.describe()"
   ]
  },
  {
   "cell_type": "code",
   "execution_count": 8,
   "metadata": {},
   "outputs": [
    {
     "data": {
      "text/plain": [
       "PROM_NUMBER                    0\n",
       "CIRT_DISPLAYNAME               0\n",
       "CIRT_SERT_ABBREVIATION         0\n",
       "PROM_REPORTED                  0\n",
       "PROM_CAUSE                     0\n",
       "PROM_REGN_CODE              1777\n",
       "MSAN                       63045\n",
       "PROM_WORG_NAME                 0\n",
       "OLD_FAULT_NO              109665\n",
       "OLD_PROB_CLEARED_DATE     109921\n",
       "ALTERNATE_NUMBER           64875\n",
       "dtype: int64"
      ]
     },
     "execution_count": 8,
     "metadata": {},
     "output_type": "execute_result"
    }
   ],
   "source": [
    "df_reported.isna().sum()"
   ]
  },
  {
   "cell_type": "code",
   "execution_count": 9,
   "metadata": {},
   "outputs": [
    {
     "data": {
      "text/plain": [
       "PROM_NUMBER            0\n",
       "PROM_CLEARED           0\n",
       "PROM_PCAT_NAME         0\n",
       "PROM_PRSC_NAME      7431\n",
       "PROM_WORG_NAME         0\n",
       "FEEDBACK          733778\n",
       "dtype: int64"
      ]
     },
     "execution_count": 9,
     "metadata": {},
     "output_type": "execute_result"
    }
   ],
   "source": [
    "df_cleared.isna().sum()"
   ]
  },
  {
   "cell_type": "code",
   "execution_count": 10,
   "metadata": {},
   "outputs": [
    {
     "data": {
      "text/plain": [
       "(752058, 11)"
      ]
     },
     "execution_count": 10,
     "metadata": {},
     "output_type": "execute_result"
    }
   ],
   "source": [
    "df_reported.shape"
   ]
  },
  {
   "cell_type": "code",
   "execution_count": 11,
   "metadata": {},
   "outputs": [
    {
     "data": {
      "text/plain": [
       "(748010, 6)"
      ]
     },
     "execution_count": 11,
     "metadata": {},
     "output_type": "execute_result"
    }
   ],
   "source": [
    "df_cleared.shape"
   ]
  },
  {
   "cell_type": "code",
   "execution_count": 12,
   "metadata": {},
   "outputs": [],
   "source": [
    "df=pd.merge(df_reported,df_cleared,on='PROM_NUMBER')"
   ]
  },
  {
   "cell_type": "code",
   "execution_count": 13,
   "metadata": {},
   "outputs": [
    {
     "data": {
      "text/plain": [
       "(748105, 16)"
      ]
     },
     "execution_count": 13,
     "metadata": {},
     "output_type": "execute_result"
    }
   ],
   "source": [
    "df.shape"
   ]
  },
  {
   "cell_type": "code",
   "execution_count": 14,
   "metadata": {},
   "outputs": [
    {
     "data": {
      "text/html": [
       "<div>\n",
       "<style scoped>\n",
       "    .dataframe tbody tr th:only-of-type {\n",
       "        vertical-align: middle;\n",
       "    }\n",
       "\n",
       "    .dataframe tbody tr th {\n",
       "        vertical-align: top;\n",
       "    }\n",
       "\n",
       "    .dataframe thead th {\n",
       "        text-align: right;\n",
       "    }\n",
       "</style>\n",
       "<table border=\"1\" class=\"dataframe\">\n",
       "  <thead>\n",
       "    <tr style=\"text-align: right;\">\n",
       "      <th></th>\n",
       "      <th>PROM_NUMBER</th>\n",
       "      <th>CIRT_DISPLAYNAME</th>\n",
       "      <th>CIRT_SERT_ABBREVIATION</th>\n",
       "      <th>PROM_REPORTED</th>\n",
       "      <th>PROM_CAUSE</th>\n",
       "      <th>PROM_REGN_CODE</th>\n",
       "      <th>MSAN</th>\n",
       "      <th>PROM_WORG_NAME_x</th>\n",
       "      <th>OLD_FAULT_NO</th>\n",
       "      <th>OLD_PROB_CLEARED_DATE</th>\n",
       "      <th>ALTERNATE_NUMBER</th>\n",
       "      <th>PROM_CLEARED</th>\n",
       "      <th>PROM_PCAT_NAME</th>\n",
       "      <th>PROM_PRSC_NAME</th>\n",
       "      <th>PROM_WORG_NAME_y</th>\n",
       "      <th>FEEDBACK</th>\n",
       "    </tr>\n",
       "  </thead>\n",
       "  <tbody>\n",
       "    <tr>\n",
       "      <th>0</th>\n",
       "      <td>31324446</td>\n",
       "      <td>0812422056</td>\n",
       "      <td>V-VOICE COPPER</td>\n",
       "      <td>43739.446505</td>\n",
       "      <td>99-OUT OF ORDER</td>\n",
       "      <td>KY</td>\n",
       "      <td>PKL-AMJ-NODE</td>\n",
       "      <td>KY-PKL-OSP-MTCE</td>\n",
       "      <td>31237890.0</td>\n",
       "      <td>43728.463148</td>\n",
       "      <td>0812422056</td>\n",
       "      <td>43739.714120</td>\n",
       "      <td>10-USER DEVICES/APPLICATIONS</td>\n",
       "      <td>101-WEB SITE/APPLICATION DOWN/BLOCKED</td>\n",
       "      <td>KY-PKL-OSP-MTCE</td>\n",
       "      <td>NaN</td>\n",
       "    </tr>\n",
       "    <tr>\n",
       "      <th>1</th>\n",
       "      <td>31325316</td>\n",
       "      <td>0112782628</td>\n",
       "      <td>V-VOICE COPPER</td>\n",
       "      <td>43739.481111</td>\n",
       "      <td>01-NO SVC-VOICE</td>\n",
       "      <td>MTG</td>\n",
       "      <td>MTG-KTJ-NODE</td>\n",
       "      <td>HO-MTG-OSP-MTCE</td>\n",
       "      <td>31031843.0</td>\n",
       "      <td>43699.781250</td>\n",
       "      <td>0112782628</td>\n",
       "      <td>43739.690567</td>\n",
       "      <td>30-CPE</td>\n",
       "      <td>308-LIGHTNING DAMAGE-MODEM/ROUTER/ONT</td>\n",
       "      <td>HO-MTG-OSP-MTCE</td>\n",
       "      <td>NaN</td>\n",
       "    </tr>\n",
       "    <tr>\n",
       "      <th>2</th>\n",
       "      <td>31321752</td>\n",
       "      <td>0342268462</td>\n",
       "      <td>V-VOICE COPPER</td>\n",
       "      <td>43739.336088</td>\n",
       "      <td>01-NO SVC-VOICE</td>\n",
       "      <td>IG</td>\n",
       "      <td>IG-MIN-NODE</td>\n",
       "      <td>HR-HR-OSP-CDM</td>\n",
       "      <td>31104380.0</td>\n",
       "      <td>43710.521840</td>\n",
       "      <td>0342268462</td>\n",
       "      <td>43742.707789</td>\n",
       "      <td>30-CPE</td>\n",
       "      <td>304-FAULTY TELEPHONE</td>\n",
       "      <td>HR-HR-OSP-CDM</td>\n",
       "      <td>NaN</td>\n",
       "    </tr>\n",
       "    <tr>\n",
       "      <th>3</th>\n",
       "      <td>31321897</td>\n",
       "      <td>0572232522</td>\n",
       "      <td>V-VOICE FTTH</td>\n",
       "      <td>43739.343970</td>\n",
       "      <td>10-LOW SVC QUALITY-VOICE</td>\n",
       "      <td>BW</td>\n",
       "      <td>BW-NODE</td>\n",
       "      <td>BW-BW-OSP-MTCE</td>\n",
       "      <td>NaN</td>\n",
       "      <td>NaN</td>\n",
       "      <td>0572232522</td>\n",
       "      <td>43739.726713</td>\n",
       "      <td>30-CPE</td>\n",
       "      <td>306-FAULTY MODEM/ROUTER/ONT</td>\n",
       "      <td>BW-BW-OSP-MTCE</td>\n",
       "      <td>NaN</td>\n",
       "    </tr>\n",
       "    <tr>\n",
       "      <th>4</th>\n",
       "      <td>31325003</td>\n",
       "      <td>IPTV0112295508</td>\n",
       "      <td>E-IPTV COPPER</td>\n",
       "      <td>43739.467315</td>\n",
       "      <td>03-NO SVC-IPTV</td>\n",
       "      <td>MNG</td>\n",
       "      <td>MNG-PWR-NODE</td>\n",
       "      <td>NG-MNG-OSP-MTCE</td>\n",
       "      <td>29228823.0</td>\n",
       "      <td>43523.412118</td>\n",
       "      <td>0112295508</td>\n",
       "      <td>43739.853715</td>\n",
       "      <td>30-CPE</td>\n",
       "      <td>306-FAULTY MODEM/ROUTER/ONT</td>\n",
       "      <td>NG-MNG-OSP-MTCE</td>\n",
       "      <td>NaN</td>\n",
       "    </tr>\n",
       "  </tbody>\n",
       "</table>\n",
       "</div>"
      ],
      "text/plain": [
       "   PROM_NUMBER CIRT_DISPLAYNAME CIRT_SERT_ABBREVIATION  PROM_REPORTED  \\\n",
       "0     31324446       0812422056         V-VOICE COPPER   43739.446505   \n",
       "1     31325316       0112782628         V-VOICE COPPER   43739.481111   \n",
       "2     31321752       0342268462         V-VOICE COPPER   43739.336088   \n",
       "3     31321897       0572232522           V-VOICE FTTH   43739.343970   \n",
       "4     31325003   IPTV0112295508          E-IPTV COPPER   43739.467315   \n",
       "\n",
       "                 PROM_CAUSE PROM_REGN_CODE          MSAN PROM_WORG_NAME_x  \\\n",
       "0           99-OUT OF ORDER             KY  PKL-AMJ-NODE  KY-PKL-OSP-MTCE   \n",
       "1           01-NO SVC-VOICE            MTG  MTG-KTJ-NODE  HO-MTG-OSP-MTCE   \n",
       "2           01-NO SVC-VOICE             IG   IG-MIN-NODE    HR-HR-OSP-CDM   \n",
       "3  10-LOW SVC QUALITY-VOICE             BW       BW-NODE   BW-BW-OSP-MTCE   \n",
       "4            03-NO SVC-IPTV            MNG  MNG-PWR-NODE  NG-MNG-OSP-MTCE   \n",
       "\n",
       "   OLD_FAULT_NO  OLD_PROB_CLEARED_DATE ALTERNATE_NUMBER  PROM_CLEARED  \\\n",
       "0    31237890.0           43728.463148       0812422056  43739.714120   \n",
       "1    31031843.0           43699.781250       0112782628  43739.690567   \n",
       "2    31104380.0           43710.521840       0342268462  43742.707789   \n",
       "3           NaN                    NaN       0572232522  43739.726713   \n",
       "4    29228823.0           43523.412118       0112295508  43739.853715   \n",
       "\n",
       "                 PROM_PCAT_NAME                         PROM_PRSC_NAME  \\\n",
       "0  10-USER DEVICES/APPLICATIONS  101-WEB SITE/APPLICATION DOWN/BLOCKED   \n",
       "1                        30-CPE  308-LIGHTNING DAMAGE-MODEM/ROUTER/ONT   \n",
       "2                        30-CPE                   304-FAULTY TELEPHONE   \n",
       "3                        30-CPE            306-FAULTY MODEM/ROUTER/ONT   \n",
       "4                        30-CPE            306-FAULTY MODEM/ROUTER/ONT   \n",
       "\n",
       "  PROM_WORG_NAME_y  FEEDBACK  \n",
       "0  KY-PKL-OSP-MTCE       NaN  \n",
       "1  HO-MTG-OSP-MTCE       NaN  \n",
       "2    HR-HR-OSP-CDM       NaN  \n",
       "3   BW-BW-OSP-MTCE       NaN  \n",
       "4  NG-MNG-OSP-MTCE       NaN  "
      ]
     },
     "execution_count": 14,
     "metadata": {},
     "output_type": "execute_result"
    }
   ],
   "source": [
    "df.head()"
   ]
  },
  {
   "cell_type": "code",
   "execution_count": 15,
   "metadata": {},
   "outputs": [
    {
     "data": {
      "text/plain": [
       "736886"
      ]
     },
     "execution_count": 15,
     "metadata": {},
     "output_type": "execute_result"
    }
   ],
   "source": [
    "df['PROM_NUMBER'].nunique()"
   ]
  },
  {
   "cell_type": "code",
   "execution_count": 16,
   "metadata": {},
   "outputs": [
    {
     "data": {
      "text/plain": [
       "(732774, 11)"
      ]
     },
     "execution_count": 16,
     "metadata": {},
     "output_type": "execute_result"
    }
   ],
   "source": [
    "df_reported.sort_values('PROM_NUMBER', inplace = True)\n",
    "df_reported.drop_duplicates(subset ='PROM_NUMBER', keep = False, inplace = True)\n",
    "df_reported.shape"
   ]
  },
  {
   "cell_type": "code",
   "execution_count": 17,
   "metadata": {},
   "outputs": [
    {
     "data": {
      "text/plain": [
       "(747802, 6)"
      ]
     },
     "execution_count": 17,
     "metadata": {},
     "output_type": "execute_result"
    }
   ],
   "source": [
    "df_cleared.sort_values('PROM_NUMBER', inplace = True)\n",
    "df_cleared.drop_duplicates(subset ='PROM_NUMBER', keep = False, inplace = True)\n",
    "df_cleared.shape"
   ]
  },
  {
   "cell_type": "code",
   "execution_count": 39,
   "metadata": {},
   "outputs": [
    {
     "data": {
      "text/plain": [
       "(728701, 16)"
      ]
     },
     "execution_count": 39,
     "metadata": {},
     "output_type": "execute_result"
    }
   ],
   "source": [
    "df=pd.merge(df_reported,df_cleared,on='PROM_NUMBER')\n",
    "df.shape"
   ]
  },
  {
   "cell_type": "code",
   "execution_count": 40,
   "metadata": {},
   "outputs": [
    {
     "data": {
      "text/plain": [
       "728701"
      ]
     },
     "execution_count": 40,
     "metadata": {},
     "output_type": "execute_result"
    }
   ],
   "source": [
    "df['PROM_NUMBER'].nunique()"
   ]
  },
  {
   "cell_type": "code",
   "execution_count": 41,
   "metadata": {},
   "outputs": [
    {
     "data": {
      "text/html": [
       "<div>\n",
       "<style scoped>\n",
       "    .dataframe tbody tr th:only-of-type {\n",
       "        vertical-align: middle;\n",
       "    }\n",
       "\n",
       "    .dataframe tbody tr th {\n",
       "        vertical-align: top;\n",
       "    }\n",
       "\n",
       "    .dataframe thead th {\n",
       "        text-align: right;\n",
       "    }\n",
       "</style>\n",
       "<table border=\"1\" class=\"dataframe\">\n",
       "  <thead>\n",
       "    <tr style=\"text-align: right;\">\n",
       "      <th></th>\n",
       "      <th>PROM_REGN_CODE</th>\n",
       "      <th>DISTRICT</th>\n",
       "      <th>PROVINCE</th>\n",
       "    </tr>\n",
       "  </thead>\n",
       "  <tbody>\n",
       "    <tr>\n",
       "      <th>0</th>\n",
       "      <td>AA</td>\n",
       "      <td>Puttalam</td>\n",
       "      <td>North Western</td>\n",
       "    </tr>\n",
       "    <tr>\n",
       "      <th>1</th>\n",
       "      <td>AB</td>\n",
       "      <td>Kurunegala</td>\n",
       "      <td>North Western</td>\n",
       "    </tr>\n",
       "    <tr>\n",
       "      <th>2</th>\n",
       "      <td>AD</td>\n",
       "      <td>Anuradhapura</td>\n",
       "      <td>North Central</td>\n",
       "    </tr>\n",
       "    <tr>\n",
       "      <th>3</th>\n",
       "      <td>AG</td>\n",
       "      <td>Galle</td>\n",
       "      <td>Southern</td>\n",
       "    </tr>\n",
       "    <tr>\n",
       "      <th>4</th>\n",
       "      <td>AGB</td>\n",
       "      <td>Trincomalee</td>\n",
       "      <td>Eastern</td>\n",
       "    </tr>\n",
       "  </tbody>\n",
       "</table>\n",
       "</div>"
      ],
      "text/plain": [
       "  PROM_REGN_CODE      DISTRICT       PROVINCE\n",
       "0             AA      Puttalam  North Western\n",
       "1             AB    Kurunegala  North Western\n",
       "2             AD  Anuradhapura  North Central\n",
       "3             AG         Galle       Southern\n",
       "4            AGB   Trincomalee        Eastern"
      ]
     },
     "execution_count": 41,
     "metadata": {},
     "output_type": "execute_result"
    }
   ],
   "source": [
    "df_mapping=pd.read_excel('Area_Mapping.xlsx')\n",
    "df_mapping.head()"
   ]
  },
  {
   "cell_type": "code",
   "execution_count": 42,
   "metadata": {},
   "outputs": [
    {
     "data": {
      "text/plain": [
       "(376, 3)"
      ]
     },
     "execution_count": 42,
     "metadata": {},
     "output_type": "execute_result"
    }
   ],
   "source": [
    "df_mapping.shape"
   ]
  },
  {
   "cell_type": "code",
   "execution_count": 43,
   "metadata": {},
   "outputs": [
    {
     "name": "stdout",
     "output_type": "stream",
     "text": [
      "<class 'pandas.core.frame.DataFrame'>\n",
      "RangeIndex: 376 entries, 0 to 375\n",
      "Data columns (total 3 columns):\n",
      "PROM_REGN_CODE    375 non-null object\n",
      "DISTRICT          376 non-null object\n",
      "PROVINCE          376 non-null object\n",
      "dtypes: object(3)\n",
      "memory usage: 8.9+ KB\n"
     ]
    }
   ],
   "source": [
    "df_mapping.info()"
   ]
  },
  {
   "cell_type": "code",
   "execution_count": 44,
   "metadata": {},
   "outputs": [],
   "source": [
    "df_mapping['PROM_REGN_CODE'] = df_mapping['PROM_REGN_CODE'].astype('str')"
   ]
  },
  {
   "cell_type": "code",
   "execution_count": 45,
   "metadata": {},
   "outputs": [
    {
     "data": {
      "text/plain": [
       "376"
      ]
     },
     "execution_count": 45,
     "metadata": {},
     "output_type": "execute_result"
    }
   ],
   "source": [
    "df_mapping['PROM_REGN_CODE'].nunique()"
   ]
  },
  {
   "cell_type": "code",
   "execution_count": 46,
   "metadata": {},
   "outputs": [
    {
     "data": {
      "text/plain": [
       "398"
      ]
     },
     "execution_count": 46,
     "metadata": {},
     "output_type": "execute_result"
    }
   ],
   "source": [
    "df['PROM_REGN_CODE'].nunique()"
   ]
  },
  {
   "cell_type": "code",
   "execution_count": 47,
   "metadata": {},
   "outputs": [
    {
     "data": {
      "text/plain": [
       "(726741, 18)"
      ]
     },
     "execution_count": 47,
     "metadata": {},
     "output_type": "execute_result"
    }
   ],
   "source": [
    "df=pd.merge(df,df_mapping,on='PROM_REGN_CODE')\n",
    "df.shape"
   ]
  },
  {
   "cell_type": "code",
   "execution_count": 48,
   "metadata": {},
   "outputs": [
    {
     "data": {
      "text/plain": [
       "368"
      ]
     },
     "execution_count": 48,
     "metadata": {},
     "output_type": "execute_result"
    }
   ],
   "source": [
    "df['PROM_REGN_CODE'].nunique()"
   ]
  },
  {
   "cell_type": "code",
   "execution_count": 49,
   "metadata": {},
   "outputs": [
    {
     "data": {
      "text/html": [
       "<div>\n",
       "<style scoped>\n",
       "    .dataframe tbody tr th:only-of-type {\n",
       "        vertical-align: middle;\n",
       "    }\n",
       "\n",
       "    .dataframe tbody tr th {\n",
       "        vertical-align: top;\n",
       "    }\n",
       "\n",
       "    .dataframe thead th {\n",
       "        text-align: right;\n",
       "    }\n",
       "</style>\n",
       "<table border=\"1\" class=\"dataframe\">\n",
       "  <thead>\n",
       "    <tr style=\"text-align: right;\">\n",
       "      <th></th>\n",
       "      <th>CIRT_SERT_ABBREVIATION</th>\n",
       "      <th>SERVICE_TYPE</th>\n",
       "    </tr>\n",
       "  </thead>\n",
       "  <tbody>\n",
       "    <tr>\n",
       "      <th>0</th>\n",
       "      <td>BB-INTERNET</td>\n",
       "      <td>LTE</td>\n",
       "    </tr>\n",
       "    <tr>\n",
       "      <th>1</th>\n",
       "      <td>V-VOICE</td>\n",
       "      <td>LTE</td>\n",
       "    </tr>\n",
       "    <tr>\n",
       "      <th>2</th>\n",
       "      <td>E-IPTV FTTH</td>\n",
       "      <td>FTTH</td>\n",
       "    </tr>\n",
       "    <tr>\n",
       "      <th>3</th>\n",
       "      <td>E-IPTV COPPER</td>\n",
       "      <td>IPTV</td>\n",
       "    </tr>\n",
       "    <tr>\n",
       "      <th>4</th>\n",
       "      <td>BB-INTERNET COPPER</td>\n",
       "      <td>ADSL</td>\n",
       "    </tr>\n",
       "  </tbody>\n",
       "</table>\n",
       "</div>"
      ],
      "text/plain": [
       "  CIRT_SERT_ABBREVIATION SERVICE_TYPE\n",
       "0            BB-INTERNET          LTE\n",
       "1                V-VOICE          LTE\n",
       "2            E-IPTV FTTH         FTTH\n",
       "3          E-IPTV COPPER         IPTV\n",
       "4     BB-INTERNET COPPER         ADSL"
      ]
     },
     "execution_count": 49,
     "metadata": {},
     "output_type": "execute_result"
    }
   ],
   "source": [
    "df_services=pd.read_excel('Service Types.xlsx')\n",
    "df_services.head()"
   ]
  },
  {
   "cell_type": "code",
   "execution_count": 50,
   "metadata": {},
   "outputs": [
    {
     "data": {
      "text/plain": [
       "13"
      ]
     },
     "execution_count": 50,
     "metadata": {},
     "output_type": "execute_result"
    }
   ],
   "source": [
    "df_services['CIRT_SERT_ABBREVIATION'].nunique()"
   ]
  },
  {
   "cell_type": "code",
   "execution_count": 51,
   "metadata": {},
   "outputs": [
    {
     "data": {
      "text/plain": [
       "(13, 2)"
      ]
     },
     "execution_count": 51,
     "metadata": {},
     "output_type": "execute_result"
    }
   ],
   "source": [
    "df_services.shape"
   ]
  },
  {
   "cell_type": "code",
   "execution_count": 52,
   "metadata": {},
   "outputs": [
    {
     "data": {
      "text/plain": [
       "53"
      ]
     },
     "execution_count": 52,
     "metadata": {},
     "output_type": "execute_result"
    }
   ],
   "source": [
    "df['CIRT_SERT_ABBREVIATION'].nunique()"
   ]
  },
  {
   "cell_type": "code",
   "execution_count": 53,
   "metadata": {},
   "outputs": [
    {
     "data": {
      "text/plain": [
       "(718714, 19)"
      ]
     },
     "execution_count": 53,
     "metadata": {},
     "output_type": "execute_result"
    }
   ],
   "source": [
    "df=pd.merge(df,df_services,on='CIRT_SERT_ABBREVIATION')\n",
    "df.shape"
   ]
  },
  {
   "cell_type": "code",
   "execution_count": 54,
   "metadata": {},
   "outputs": [
    {
     "data": {
      "text/plain": [
       "13"
      ]
     },
     "execution_count": 54,
     "metadata": {},
     "output_type": "execute_result"
    }
   ],
   "source": [
    "df['CIRT_SERT_ABBREVIATION'].nunique()"
   ]
  },
  {
   "cell_type": "code",
   "execution_count": 55,
   "metadata": {},
   "outputs": [
    {
     "data": {
      "text/plain": [
       "PROM_NUMBER                    0\n",
       "CIRT_DISPLAYNAME               0\n",
       "CIRT_SERT_ABBREVIATION         0\n",
       "PROM_REPORTED                  0\n",
       "PROM_CAUSE                     0\n",
       "PROM_REGN_CODE                 0\n",
       "MSAN                       58304\n",
       "PROM_WORG_NAME_x               0\n",
       "OLD_FAULT_NO              105977\n",
       "OLD_PROB_CLEARED_DATE     106197\n",
       "ALTERNATE_NUMBER           54659\n",
       "PROM_CLEARED                   0\n",
       "PROM_PCAT_NAME                 0\n",
       "PROM_PRSC_NAME              7029\n",
       "PROM_WORG_NAME_y               0\n",
       "FEEDBACK                  704684\n",
       "DISTRICT                       0\n",
       "PROVINCE                       0\n",
       "SERVICE_TYPE                   0\n",
       "dtype: int64"
      ]
     },
     "execution_count": 55,
     "metadata": {},
     "output_type": "execute_result"
    }
   ],
   "source": [
    "df.isna().sum()"
   ]
  },
  {
   "cell_type": "code",
   "execution_count": 56,
   "metadata": {},
   "outputs": [],
   "source": [
    "df.to_excel('faults.xlsx')"
   ]
  },
  {
   "cell_type": "code",
   "execution_count": 35,
   "metadata": {},
   "outputs": [],
   "source": [
    "#df['PROM_CLEARED']=pd.to_datetime(df['PROM_CLEARED'])\n",
    "#df['PROM_REPORTED']=pd.to_datetime(df['PROM_REPORTED'])"
   ]
  },
  {
   "cell_type": "code",
   "execution_count": 36,
   "metadata": {},
   "outputs": [],
   "source": [
    "#from datetime import timedelta "
   ]
  },
  {
   "cell_type": "code",
   "execution_count": 37,
   "metadata": {},
   "outputs": [],
   "source": [
    "#df['Outage']=(df['PROM_CLEARED']-df['PROM_REPORTED']).astype('timedelta64[h]')"
   ]
  },
  {
   "cell_type": "code",
   "execution_count": 57,
   "metadata": {},
   "outputs": [],
   "source": [
    "#df.sample(10)"
   ]
  }
 ],
 "metadata": {
  "kernelspec": {
   "display_name": "Python 3",
   "language": "python",
   "name": "python3"
  },
  "language_info": {
   "codemirror_mode": {
    "name": "ipython",
    "version": 3
   },
   "file_extension": ".py",
   "mimetype": "text/x-python",
   "name": "python",
   "nbconvert_exporter": "python",
   "pygments_lexer": "ipython3",
   "version": "3.7.3"
  }
 },
 "nbformat": 4,
 "nbformat_minor": 2
}
