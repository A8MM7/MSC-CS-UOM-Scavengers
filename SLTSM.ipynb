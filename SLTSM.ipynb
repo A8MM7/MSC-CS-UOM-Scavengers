{
 "cells": [
  {
   "cell_type": "code",
   "execution_count": 2,
   "metadata": {},
   "outputs": [],
   "source": [
    "import pandas as pd\n",
    "import numpy as np\n",
    "import matplotlib.pyplot as plt\n",
    "import seaborn as sns\n",
    "import os\n",
    "sns.set()"
   ]
  },
  {
   "cell_type": "code",
   "execution_count": 129,
   "metadata": {},
   "outputs": [],
   "source": [
    "df_main = pd.read_csv('classify_delay_mf.csv')"
   ]
  },
  {
   "cell_type": "code",
   "execution_count": 130,
   "metadata": {},
   "outputs": [
    {
     "data": {
      "text/html": [
       "<div>\n",
       "<style scoped>\n",
       "    .dataframe tbody tr th:only-of-type {\n",
       "        vertical-align: middle;\n",
       "    }\n",
       "\n",
       "    .dataframe tbody tr th {\n",
       "        vertical-align: top;\n",
       "    }\n",
       "\n",
       "    .dataframe thead th {\n",
       "        text-align: right;\n",
       "    }\n",
       "</style>\n",
       "<table border=\"1\" class=\"dataframe\">\n",
       "  <thead>\n",
       "    <tr style=\"text-align: right;\">\n",
       "      <th></th>\n",
       "      <th>CIRT_SERT_ABBREVIATION</th>\n",
       "      <th>PROM_CAUSE</th>\n",
       "      <th>PROM_REGN_CODE</th>\n",
       "      <th>REPORTED_HOUR</th>\n",
       "      <th>DELAY(HRS)</th>\n",
       "      <th>DAY_OF_MONTH</th>\n",
       "      <th>DELAY_CATERGORY</th>\n",
       "    </tr>\n",
       "  </thead>\n",
       "  <tbody>\n",
       "    <tr>\n",
       "      <th>0</th>\n",
       "      <td>V-VOICE COPPER</td>\n",
       "      <td>99-OUT OF ORDER</td>\n",
       "      <td>MB</td>\n",
       "      <td>9</td>\n",
       "      <td>3</td>\n",
       "      <td>14</td>\n",
       "      <td>A</td>\n",
       "    </tr>\n",
       "    <tr>\n",
       "      <th>1</th>\n",
       "      <td>V-VOICE COPPER</td>\n",
       "      <td>99-OUT OF ORDER</td>\n",
       "      <td>DYT</td>\n",
       "      <td>9</td>\n",
       "      <td>7</td>\n",
       "      <td>14</td>\n",
       "      <td>A</td>\n",
       "    </tr>\n",
       "    <tr>\n",
       "      <th>2</th>\n",
       "      <td>V-VOICE COPPER</td>\n",
       "      <td>99-OUT OF ORDER</td>\n",
       "      <td>BW</td>\n",
       "      <td>9</td>\n",
       "      <td>4</td>\n",
       "      <td>14</td>\n",
       "      <td>A</td>\n",
       "    </tr>\n",
       "    <tr>\n",
       "      <th>3</th>\n",
       "      <td>V-VOICE COPPER</td>\n",
       "      <td>99-OUT OF ORDER</td>\n",
       "      <td>TTY</td>\n",
       "      <td>9</td>\n",
       "      <td>2</td>\n",
       "      <td>14</td>\n",
       "      <td>A</td>\n",
       "    </tr>\n",
       "    <tr>\n",
       "      <th>4</th>\n",
       "      <td>V-VOICE COPPER</td>\n",
       "      <td>99-OUT OF ORDER</td>\n",
       "      <td>KG</td>\n",
       "      <td>9</td>\n",
       "      <td>5</td>\n",
       "      <td>14</td>\n",
       "      <td>A</td>\n",
       "    </tr>\n",
       "  </tbody>\n",
       "</table>\n",
       "</div>"
      ],
      "text/plain": [
       "  CIRT_SERT_ABBREVIATION       PROM_CAUSE PROM_REGN_CODE  REPORTED_HOUR  \\\n",
       "0         V-VOICE COPPER  99-OUT OF ORDER             MB              9   \n",
       "1         V-VOICE COPPER  99-OUT OF ORDER            DYT              9   \n",
       "2         V-VOICE COPPER  99-OUT OF ORDER             BW              9   \n",
       "3         V-VOICE COPPER  99-OUT OF ORDER            TTY              9   \n",
       "4         V-VOICE COPPER  99-OUT OF ORDER             KG              9   \n",
       "\n",
       "   DELAY(HRS)  DAY_OF_MONTH DELAY_CATERGORY  \n",
       "0           3            14               A  \n",
       "1           7            14               A  \n",
       "2           4            14               A  \n",
       "3           2            14               A  \n",
       "4           5            14               A  "
      ]
     },
     "execution_count": 130,
     "metadata": {},
     "output_type": "execute_result"
    }
   ],
   "source": [
    "df_main.head()"
   ]
  },
  {
   "cell_type": "code",
   "execution_count": 132,
   "metadata": {},
   "outputs": [
    {
     "data": {
      "text/plain": [
       "CIRT_SERT_ABBREVIATION      0\n",
       "PROM_CAUSE                  0\n",
       "PROM_REGN_CODE            697\n",
       "REPORTED_HOUR               0\n",
       "DELAY(HRS)                  0\n",
       "DAY_OF_MONTH                0\n",
       "DELAY_CATERGORY             0\n",
       "dtype: int64"
      ]
     },
     "execution_count": 132,
     "metadata": {},
     "output_type": "execute_result"
    }
   ],
   "source": [
    "df_main.isnull().sum()"
   ]
  },
  {
   "cell_type": "code",
   "execution_count": 133,
   "metadata": {},
   "outputs": [],
   "source": [
    "## Filter the regions"
   ]
  },
  {
   "cell_type": "code",
   "execution_count": 134,
   "metadata": {},
   "outputs": [],
   "source": [
    "df_regions = pd.read_excel('LEA_Mapping_New.xlsx')"
   ]
  },
  {
   "cell_type": "code",
   "execution_count": 135,
   "metadata": {},
   "outputs": [
    {
     "data": {
      "text/html": [
       "<div>\n",
       "<style scoped>\n",
       "    .dataframe tbody tr th:only-of-type {\n",
       "        vertical-align: middle;\n",
       "    }\n",
       "\n",
       "    .dataframe tbody tr th {\n",
       "        vertical-align: top;\n",
       "    }\n",
       "\n",
       "    .dataframe thead th {\n",
       "        text-align: right;\n",
       "    }\n",
       "</style>\n",
       "<table border=\"1\" class=\"dataframe\">\n",
       "  <thead>\n",
       "    <tr style=\"text-align: right;\">\n",
       "      <th></th>\n",
       "      <th>LEA</th>\n",
       "      <th>RTOM</th>\n",
       "      <th>MOPMC</th>\n",
       "      <th>OPMC</th>\n",
       "      <th>Province</th>\n",
       "      <th>Region</th>\n",
       "      <th>Zone</th>\n",
       "    </tr>\n",
       "  </thead>\n",
       "  <tbody>\n",
       "    <tr>\n",
       "      <th>0</th>\n",
       "      <td>BKM</td>\n",
       "      <td>R-DB</td>\n",
       "      <td>DB</td>\n",
       "      <td>KY</td>\n",
       "      <td>CPN</td>\n",
       "      <td>CEN &amp; UVA</td>\n",
       "      <td>CSRO II</td>\n",
       "    </tr>\n",
       "    <tr>\n",
       "      <th>1</th>\n",
       "      <td>HBR</td>\n",
       "      <td>R-DB</td>\n",
       "      <td>DB</td>\n",
       "      <td>KY</td>\n",
       "      <td>CPN</td>\n",
       "      <td>CEN &amp; UVA</td>\n",
       "      <td>CSRO II</td>\n",
       "    </tr>\n",
       "    <tr>\n",
       "      <th>2</th>\n",
       "      <td>DB</td>\n",
       "      <td>R-DB</td>\n",
       "      <td>DB</td>\n",
       "      <td>KY</td>\n",
       "      <td>CPN</td>\n",
       "      <td>CEN &amp; UVA</td>\n",
       "      <td>CSRO II</td>\n",
       "    </tr>\n",
       "    <tr>\n",
       "      <th>3</th>\n",
       "      <td>NL</td>\n",
       "      <td>R-DB</td>\n",
       "      <td>DB</td>\n",
       "      <td>KY</td>\n",
       "      <td>CPN</td>\n",
       "      <td>CEN &amp; UVA</td>\n",
       "      <td>CSRO II</td>\n",
       "    </tr>\n",
       "    <tr>\n",
       "      <th>4</th>\n",
       "      <td>GLW</td>\n",
       "      <td>R-DB</td>\n",
       "      <td>DB</td>\n",
       "      <td>KY</td>\n",
       "      <td>CPN</td>\n",
       "      <td>CEN &amp; UVA</td>\n",
       "      <td>CSRO II</td>\n",
       "    </tr>\n",
       "  </tbody>\n",
       "</table>\n",
       "</div>"
      ],
      "text/plain": [
       "   LEA  RTOM MOPMC OPMC Province     Region     Zone\n",
       "0  BKM  R-DB    DB   KY      CPN  CEN & UVA  CSRO II\n",
       "1  HBR  R-DB    DB   KY      CPN  CEN & UVA  CSRO II\n",
       "2   DB  R-DB    DB   KY      CPN  CEN & UVA  CSRO II\n",
       "3   NL  R-DB    DB   KY      CPN  CEN & UVA  CSRO II\n",
       "4  GLW  R-DB    DB   KY      CPN  CEN & UVA  CSRO II"
      ]
     },
     "execution_count": 135,
     "metadata": {},
     "output_type": "execute_result"
    }
   ],
   "source": [
    "df_regions.head()"
   ]
  },
  {
   "cell_type": "code",
   "execution_count": 137,
   "metadata": {},
   "outputs": [],
   "source": [
    "df_regions = df_regions.rename(columns={'LEA': 'PROM_REGN_CODE'})"
   ]
  },
  {
   "cell_type": "code",
   "execution_count": 138,
   "metadata": {},
   "outputs": [
    {
     "data": {
      "text/plain": [
       "PROM_REGN_CODE    1\n",
       "RTOM              0\n",
       "MOPMC             0\n",
       "OPMC              0\n",
       "Province          0\n",
       "Region            0\n",
       "Zone              0\n",
       "dtype: int64"
      ]
     },
     "execution_count": 138,
     "metadata": {},
     "output_type": "execute_result"
    }
   ],
   "source": [
    "df_regions.isnull().sum()"
   ]
  },
  {
   "cell_type": "code",
   "execution_count": 140,
   "metadata": {},
   "outputs": [
    {
     "data": {
      "text/html": [
       "<div>\n",
       "<style scoped>\n",
       "    .dataframe tbody tr th:only-of-type {\n",
       "        vertical-align: middle;\n",
       "    }\n",
       "\n",
       "    .dataframe tbody tr th {\n",
       "        vertical-align: top;\n",
       "    }\n",
       "\n",
       "    .dataframe thead th {\n",
       "        text-align: right;\n",
       "    }\n",
       "</style>\n",
       "<table border=\"1\" class=\"dataframe\">\n",
       "  <thead>\n",
       "    <tr style=\"text-align: right;\">\n",
       "      <th></th>\n",
       "      <th>PROM_REGN_CODE</th>\n",
       "      <th>RTOM</th>\n",
       "      <th>MOPMC</th>\n",
       "      <th>OPMC</th>\n",
       "      <th>Province</th>\n",
       "      <th>Region</th>\n",
       "      <th>Zone</th>\n",
       "    </tr>\n",
       "  </thead>\n",
       "  <tbody>\n",
       "    <tr>\n",
       "      <th>204</th>\n",
       "      <td>NaN</td>\n",
       "      <td>R-RN</td>\n",
       "      <td>RN</td>\n",
       "      <td>RN</td>\n",
       "      <td>SAB</td>\n",
       "      <td>SAB &amp; SP</td>\n",
       "      <td>CSRO I</td>\n",
       "    </tr>\n",
       "  </tbody>\n",
       "</table>\n",
       "</div>"
      ],
      "text/plain": [
       "    PROM_REGN_CODE  RTOM MOPMC OPMC Province    Region    Zone\n",
       "204            NaN  R-RN    RN   RN      SAB  SAB & SP  CSRO I"
      ]
     },
     "execution_count": 140,
     "metadata": {},
     "output_type": "execute_result"
    }
   ],
   "source": [
    "df_regions[df_regions.PROM_REGN_CODE.isnull()]"
   ]
  },
  {
   "cell_type": "code",
   "execution_count": 142,
   "metadata": {},
   "outputs": [],
   "source": [
    "df_regions.loc[204].PROM_REGN_CODE = \"NA\""
   ]
  },
  {
   "cell_type": "code",
   "execution_count": 143,
   "metadata": {},
   "outputs": [
    {
     "data": {
      "text/plain": [
       "PROM_REGN_CODE    0\n",
       "RTOM              0\n",
       "MOPMC             0\n",
       "OPMC              0\n",
       "Province          0\n",
       "Region            0\n",
       "Zone              0\n",
       "dtype: int64"
      ]
     },
     "execution_count": 143,
     "metadata": {},
     "output_type": "execute_result"
    }
   ],
   "source": [
    "df_regions.isnull().sum()"
   ]
  },
  {
   "cell_type": "code",
   "execution_count": 146,
   "metadata": {},
   "outputs": [],
   "source": [
    "df_main_f = pd.merge(df_main, df_regions[['PROM_REGN_CODE']], on='PROM_REGN_CODE', how='inner')"
   ]
  },
  {
   "cell_type": "code",
   "execution_count": 147,
   "metadata": {},
   "outputs": [
    {
     "data": {
      "text/plain": [
       "((685391, 7), (684694, 7))"
      ]
     },
     "execution_count": 147,
     "metadata": {},
     "output_type": "execute_result"
    }
   ],
   "source": [
    "df_main.shape, df_main_f.shape"
   ]
  },
  {
   "cell_type": "code",
   "execution_count": 148,
   "metadata": {},
   "outputs": [
    {
     "data": {
      "text/plain": [
       "CIRT_SERT_ABBREVIATION    0\n",
       "PROM_CAUSE                0\n",
       "PROM_REGN_CODE            0\n",
       "REPORTED_HOUR             0\n",
       "DELAY(HRS)                0\n",
       "DAY_OF_MONTH              0\n",
       "DELAY_CATERGORY           0\n",
       "dtype: int64"
      ]
     },
     "execution_count": 148,
     "metadata": {},
     "output_type": "execute_result"
    }
   ],
   "source": [
    "df_main_f.isnull().sum()"
   ]
  },
  {
   "cell_type": "code",
   "execution_count": 149,
   "metadata": {},
   "outputs": [
    {
     "data": {
      "text/html": [
       "<div>\n",
       "<style scoped>\n",
       "    .dataframe tbody tr th:only-of-type {\n",
       "        vertical-align: middle;\n",
       "    }\n",
       "\n",
       "    .dataframe tbody tr th {\n",
       "        vertical-align: top;\n",
       "    }\n",
       "\n",
       "    .dataframe thead th {\n",
       "        text-align: right;\n",
       "    }\n",
       "</style>\n",
       "<table border=\"1\" class=\"dataframe\">\n",
       "  <thead>\n",
       "    <tr style=\"text-align: right;\">\n",
       "      <th></th>\n",
       "      <th>CIRT_SERT_ABBREVIATION</th>\n",
       "      <th>PROM_CAUSE</th>\n",
       "      <th>PROM_REGN_CODE</th>\n",
       "      <th>REPORTED_HOUR</th>\n",
       "      <th>DELAY(HRS)</th>\n",
       "      <th>DAY_OF_MONTH</th>\n",
       "      <th>DELAY_CATERGORY</th>\n",
       "    </tr>\n",
       "  </thead>\n",
       "  <tbody>\n",
       "    <tr>\n",
       "      <th>0</th>\n",
       "      <td>V-VOICE COPPER</td>\n",
       "      <td>99-OUT OF ORDER</td>\n",
       "      <td>MB</td>\n",
       "      <td>9</td>\n",
       "      <td>3</td>\n",
       "      <td>14</td>\n",
       "      <td>A</td>\n",
       "    </tr>\n",
       "    <tr>\n",
       "      <th>1</th>\n",
       "      <td>V-VOICE COPPER</td>\n",
       "      <td>99-OUT OF ORDER</td>\n",
       "      <td>MB</td>\n",
       "      <td>9</td>\n",
       "      <td>1</td>\n",
       "      <td>14</td>\n",
       "      <td>A</td>\n",
       "    </tr>\n",
       "    <tr>\n",
       "      <th>2</th>\n",
       "      <td>V-VOICE COPPER</td>\n",
       "      <td>99-OUT OF ORDER</td>\n",
       "      <td>MB</td>\n",
       "      <td>9</td>\n",
       "      <td>0</td>\n",
       "      <td>14</td>\n",
       "      <td>A</td>\n",
       "    </tr>\n",
       "    <tr>\n",
       "      <th>3</th>\n",
       "      <td>V-VOICE COPPER</td>\n",
       "      <td>99-OUT OF ORDER</td>\n",
       "      <td>MB</td>\n",
       "      <td>9</td>\n",
       "      <td>8</td>\n",
       "      <td>19</td>\n",
       "      <td>A</td>\n",
       "    </tr>\n",
       "    <tr>\n",
       "      <th>4</th>\n",
       "      <td>V-VOICE COPPER</td>\n",
       "      <td>99-OUT OF ORDER</td>\n",
       "      <td>MB</td>\n",
       "      <td>9</td>\n",
       "      <td>1</td>\n",
       "      <td>18</td>\n",
       "      <td>A</td>\n",
       "    </tr>\n",
       "  </tbody>\n",
       "</table>\n",
       "</div>"
      ],
      "text/plain": [
       "  CIRT_SERT_ABBREVIATION       PROM_CAUSE PROM_REGN_CODE  REPORTED_HOUR  \\\n",
       "0         V-VOICE COPPER  99-OUT OF ORDER             MB              9   \n",
       "1         V-VOICE COPPER  99-OUT OF ORDER             MB              9   \n",
       "2         V-VOICE COPPER  99-OUT OF ORDER             MB              9   \n",
       "3         V-VOICE COPPER  99-OUT OF ORDER             MB              9   \n",
       "4         V-VOICE COPPER  99-OUT OF ORDER             MB              9   \n",
       "\n",
       "   DELAY(HRS)  DAY_OF_MONTH DELAY_CATERGORY  \n",
       "0           3            14               A  \n",
       "1           1            14               A  \n",
       "2           0            14               A  \n",
       "3           8            19               A  \n",
       "4           1            18               A  "
      ]
     },
     "execution_count": 149,
     "metadata": {},
     "output_type": "execute_result"
    }
   ],
   "source": [
    "df_main_f.head()"
   ]
  },
  {
   "cell_type": "code",
   "execution_count": 150,
   "metadata": {},
   "outputs": [
    {
     "data": {
      "text/plain": [
       "array(['A', 'C', 'B'], dtype=object)"
      ]
     },
     "execution_count": 150,
     "metadata": {},
     "output_type": "execute_result"
    }
   ],
   "source": [
    "df_main_f.DELAY_CATERGORY.unique()"
   ]
  },
  {
   "cell_type": "code",
   "execution_count": 151,
   "metadata": {},
   "outputs": [],
   "source": [
    "d = {'A':0, 'B':1, 'C':2}"
   ]
  },
  {
   "cell_type": "code",
   "execution_count": 152,
   "metadata": {},
   "outputs": [],
   "source": [
    "df_main_f.DELAY_CATERGORY = df_main_f.DELAY_CATERGORY.map(d)"
   ]
  },
  {
   "cell_type": "code",
   "execution_count": 155,
   "metadata": {},
   "outputs": [
    {
     "data": {
      "text/plain": [
       "CIRT_SERT_ABBREVIATION    object\n",
       "PROM_CAUSE                object\n",
       "PROM_REGN_CODE            object\n",
       "REPORTED_HOUR              int64\n",
       "DELAY(HRS)                 int64\n",
       "DAY_OF_MONTH               int64\n",
       "DELAY_CATERGORY            int64\n",
       "dtype: object"
      ]
     },
     "execution_count": 155,
     "metadata": {},
     "output_type": "execute_result"
    }
   ],
   "source": [
    "df_main_f.dtypes"
   ]
  },
  {
   "cell_type": "code",
   "execution_count": 167,
   "metadata": {},
   "outputs": [],
   "source": [
    "num_col = ['REPORTED_HOUR','DELAY(HRS)','DAY_OF_MONTH']"
   ]
  },
  {
   "cell_type": "code",
   "execution_count": 168,
   "metadata": {},
   "outputs": [],
   "source": [
    "df_main_f_numeric = df_main_f[num_col]"
   ]
  },
  {
   "cell_type": "code",
   "execution_count": 169,
   "metadata": {},
   "outputs": [
    {
     "data": {
      "text/html": [
       "<div>\n",
       "<style scoped>\n",
       "    .dataframe tbody tr th:only-of-type {\n",
       "        vertical-align: middle;\n",
       "    }\n",
       "\n",
       "    .dataframe tbody tr th {\n",
       "        vertical-align: top;\n",
       "    }\n",
       "\n",
       "    .dataframe thead th {\n",
       "        text-align: right;\n",
       "    }\n",
       "</style>\n",
       "<table border=\"1\" class=\"dataframe\">\n",
       "  <thead>\n",
       "    <tr style=\"text-align: right;\">\n",
       "      <th></th>\n",
       "      <th>REPORTED_HOUR</th>\n",
       "      <th>DELAY(HRS)</th>\n",
       "      <th>DAY_OF_MONTH</th>\n",
       "    </tr>\n",
       "  </thead>\n",
       "  <tbody>\n",
       "    <tr>\n",
       "      <th>0</th>\n",
       "      <td>9</td>\n",
       "      <td>3</td>\n",
       "      <td>14</td>\n",
       "    </tr>\n",
       "    <tr>\n",
       "      <th>1</th>\n",
       "      <td>9</td>\n",
       "      <td>1</td>\n",
       "      <td>14</td>\n",
       "    </tr>\n",
       "    <tr>\n",
       "      <th>2</th>\n",
       "      <td>9</td>\n",
       "      <td>0</td>\n",
       "      <td>14</td>\n",
       "    </tr>\n",
       "    <tr>\n",
       "      <th>3</th>\n",
       "      <td>9</td>\n",
       "      <td>8</td>\n",
       "      <td>19</td>\n",
       "    </tr>\n",
       "    <tr>\n",
       "      <th>4</th>\n",
       "      <td>9</td>\n",
       "      <td>1</td>\n",
       "      <td>18</td>\n",
       "    </tr>\n",
       "  </tbody>\n",
       "</table>\n",
       "</div>"
      ],
      "text/plain": [
       "   REPORTED_HOUR  DELAY(HRS)  DAY_OF_MONTH\n",
       "0              9           3            14\n",
       "1              9           1            14\n",
       "2              9           0            14\n",
       "3              9           8            19\n",
       "4              9           1            18"
      ]
     },
     "execution_count": 169,
     "metadata": {},
     "output_type": "execute_result"
    }
   ],
   "source": [
    "df_main_f_numeric.head()"
   ]
  },
  {
   "cell_type": "code",
   "execution_count": 170,
   "metadata": {},
   "outputs": [],
   "source": [
    "from sklearn.preprocessing import StandardScaler"
   ]
  },
  {
   "cell_type": "code",
   "execution_count": 177,
   "metadata": {},
   "outputs": [],
   "source": [
    "scaler = StandardScaler()\n",
    "main_f_numeric_std = scaler.fit_transform(df_main_f_numeric)"
   ]
  },
  {
   "cell_type": "code",
   "execution_count": 183,
   "metadata": {},
   "outputs": [],
   "source": [
    "df_main_f_numeric_std = pd.DataFrame(main_f_numeric_std,columns=['REPORTED_HOUR','DELAY(HRS)','DAY_OF_MONTH'])"
   ]
  },
  {
   "cell_type": "code",
   "execution_count": 185,
   "metadata": {},
   "outputs": [],
   "source": [
    "df_main_f['REPORTED_HOUR'] = df_main_f_numeric_std['REPORTED_HOUR']\n",
    "df_main_f['DELAY(HRS)'] = df_main_f_numeric_std['DELAY(HRS)']\n",
    "df_main_f['DAY_OF_MONTH'] = df_main_f_numeric_std['DAY_OF_MONTH']"
   ]
  },
  {
   "cell_type": "code",
   "execution_count": 186,
   "metadata": {},
   "outputs": [
    {
     "data": {
      "text/html": [
       "<div>\n",
       "<style scoped>\n",
       "    .dataframe tbody tr th:only-of-type {\n",
       "        vertical-align: middle;\n",
       "    }\n",
       "\n",
       "    .dataframe tbody tr th {\n",
       "        vertical-align: top;\n",
       "    }\n",
       "\n",
       "    .dataframe thead th {\n",
       "        text-align: right;\n",
       "    }\n",
       "</style>\n",
       "<table border=\"1\" class=\"dataframe\">\n",
       "  <thead>\n",
       "    <tr style=\"text-align: right;\">\n",
       "      <th></th>\n",
       "      <th>CIRT_SERT_ABBREVIATION</th>\n",
       "      <th>PROM_CAUSE</th>\n",
       "      <th>PROM_REGN_CODE</th>\n",
       "      <th>REPORTED_HOUR</th>\n",
       "      <th>DELAY(HRS)</th>\n",
       "      <th>DAY_OF_MONTH</th>\n",
       "      <th>DELAY_CATERGORY</th>\n",
       "    </tr>\n",
       "  </thead>\n",
       "  <tbody>\n",
       "    <tr>\n",
       "      <th>0</th>\n",
       "      <td>V-VOICE COPPER</td>\n",
       "      <td>99-OUT OF ORDER</td>\n",
       "      <td>MB</td>\n",
       "      <td>-0.932944</td>\n",
       "      <td>-0.856579</td>\n",
       "      <td>-0.141357</td>\n",
       "      <td>0</td>\n",
       "    </tr>\n",
       "    <tr>\n",
       "      <th>1</th>\n",
       "      <td>V-VOICE COPPER</td>\n",
       "      <td>99-OUT OF ORDER</td>\n",
       "      <td>MB</td>\n",
       "      <td>-0.932944</td>\n",
       "      <td>-0.948840</td>\n",
       "      <td>-0.141357</td>\n",
       "      <td>0</td>\n",
       "    </tr>\n",
       "    <tr>\n",
       "      <th>2</th>\n",
       "      <td>V-VOICE COPPER</td>\n",
       "      <td>99-OUT OF ORDER</td>\n",
       "      <td>MB</td>\n",
       "      <td>-0.932944</td>\n",
       "      <td>-0.994971</td>\n",
       "      <td>-0.141357</td>\n",
       "      <td>0</td>\n",
       "    </tr>\n",
       "    <tr>\n",
       "      <th>3</th>\n",
       "      <td>V-VOICE COPPER</td>\n",
       "      <td>99-OUT OF ORDER</td>\n",
       "      <td>MB</td>\n",
       "      <td>-0.932944</td>\n",
       "      <td>-0.625925</td>\n",
       "      <td>0.420964</td>\n",
       "      <td>0</td>\n",
       "    </tr>\n",
       "    <tr>\n",
       "      <th>4</th>\n",
       "      <td>V-VOICE COPPER</td>\n",
       "      <td>99-OUT OF ORDER</td>\n",
       "      <td>MB</td>\n",
       "      <td>-0.932944</td>\n",
       "      <td>-0.948840</td>\n",
       "      <td>0.308499</td>\n",
       "      <td>0</td>\n",
       "    </tr>\n",
       "  </tbody>\n",
       "</table>\n",
       "</div>"
      ],
      "text/plain": [
       "  CIRT_SERT_ABBREVIATION       PROM_CAUSE PROM_REGN_CODE  REPORTED_HOUR  \\\n",
       "0         V-VOICE COPPER  99-OUT OF ORDER             MB      -0.932944   \n",
       "1         V-VOICE COPPER  99-OUT OF ORDER             MB      -0.932944   \n",
       "2         V-VOICE COPPER  99-OUT OF ORDER             MB      -0.932944   \n",
       "3         V-VOICE COPPER  99-OUT OF ORDER             MB      -0.932944   \n",
       "4         V-VOICE COPPER  99-OUT OF ORDER             MB      -0.932944   \n",
       "\n",
       "   DELAY(HRS)  DAY_OF_MONTH  DELAY_CATERGORY  \n",
       "0   -0.856579     -0.141357                0  \n",
       "1   -0.948840     -0.141357                0  \n",
       "2   -0.994971     -0.141357                0  \n",
       "3   -0.625925      0.420964                0  \n",
       "4   -0.948840      0.308499                0  "
      ]
     },
     "execution_count": 186,
     "metadata": {},
     "output_type": "execute_result"
    }
   ],
   "source": [
    "df_main_f.head()"
   ]
  },
  {
   "cell_type": "code",
   "execution_count": 188,
   "metadata": {},
   "outputs": [],
   "source": [
    "df_main_f_procssed = pd.get_dummies(df_main_f)"
   ]
  },
  {
   "cell_type": "code",
   "execution_count": 189,
   "metadata": {},
   "outputs": [
    {
     "data": {
      "text/html": [
       "<div>\n",
       "<style scoped>\n",
       "    .dataframe tbody tr th:only-of-type {\n",
       "        vertical-align: middle;\n",
       "    }\n",
       "\n",
       "    .dataframe tbody tr th {\n",
       "        vertical-align: top;\n",
       "    }\n",
       "\n",
       "    .dataframe thead th {\n",
       "        text-align: right;\n",
       "    }\n",
       "</style>\n",
       "<table border=\"1\" class=\"dataframe\">\n",
       "  <thead>\n",
       "    <tr style=\"text-align: right;\">\n",
       "      <th></th>\n",
       "      <th>REPORTED_HOUR</th>\n",
       "      <th>DELAY(HRS)</th>\n",
       "      <th>DAY_OF_MONTH</th>\n",
       "      <th>DELAY_CATERGORY</th>\n",
       "      <th>CIRT_SERT_ABBREVIATION_AB-CAB</th>\n",
       "      <th>CIRT_SERT_ABBREVIATION_AB-FTTH</th>\n",
       "      <th>CIRT_SERT_ABBREVIATION_AB-WIRELESS ACCESS</th>\n",
       "      <th>CIRT_SERT_ABBREVIATION_ADSL</th>\n",
       "      <th>CIRT_SERT_ABBREVIATION_BB-INTERNET</th>\n",
       "      <th>CIRT_SERT_ABBREVIATION_BB-INTERNET COPPER</th>\n",
       "      <th>...</th>\n",
       "      <th>PROM_REGN_CODE_WKN</th>\n",
       "      <th>PROM_REGN_CODE_WLW</th>\n",
       "      <th>PROM_REGN_CODE_WM</th>\n",
       "      <th>PROM_REGN_CODE_WP</th>\n",
       "      <th>PROM_REGN_CODE_WT</th>\n",
       "      <th>PROM_REGN_CODE_WTM</th>\n",
       "      <th>PROM_REGN_CODE_WU</th>\n",
       "      <th>PROM_REGN_CODE_WY</th>\n",
       "      <th>PROM_REGN_CODE_YA</th>\n",
       "      <th>PROM_REGN_CODE_YMH</th>\n",
       "    </tr>\n",
       "  </thead>\n",
       "  <tbody>\n",
       "    <tr>\n",
       "      <th>0</th>\n",
       "      <td>-0.932944</td>\n",
       "      <td>-0.856579</td>\n",
       "      <td>-0.141357</td>\n",
       "      <td>0</td>\n",
       "      <td>0</td>\n",
       "      <td>0</td>\n",
       "      <td>0</td>\n",
       "      <td>0</td>\n",
       "      <td>0</td>\n",
       "      <td>0</td>\n",
       "      <td>...</td>\n",
       "      <td>0</td>\n",
       "      <td>0</td>\n",
       "      <td>0</td>\n",
       "      <td>0</td>\n",
       "      <td>0</td>\n",
       "      <td>0</td>\n",
       "      <td>0</td>\n",
       "      <td>0</td>\n",
       "      <td>0</td>\n",
       "      <td>0</td>\n",
       "    </tr>\n",
       "    <tr>\n",
       "      <th>1</th>\n",
       "      <td>-0.932944</td>\n",
       "      <td>-0.948840</td>\n",
       "      <td>-0.141357</td>\n",
       "      <td>0</td>\n",
       "      <td>0</td>\n",
       "      <td>0</td>\n",
       "      <td>0</td>\n",
       "      <td>0</td>\n",
       "      <td>0</td>\n",
       "      <td>0</td>\n",
       "      <td>...</td>\n",
       "      <td>0</td>\n",
       "      <td>0</td>\n",
       "      <td>0</td>\n",
       "      <td>0</td>\n",
       "      <td>0</td>\n",
       "      <td>0</td>\n",
       "      <td>0</td>\n",
       "      <td>0</td>\n",
       "      <td>0</td>\n",
       "      <td>0</td>\n",
       "    </tr>\n",
       "    <tr>\n",
       "      <th>2</th>\n",
       "      <td>-0.932944</td>\n",
       "      <td>-0.994971</td>\n",
       "      <td>-0.141357</td>\n",
       "      <td>0</td>\n",
       "      <td>0</td>\n",
       "      <td>0</td>\n",
       "      <td>0</td>\n",
       "      <td>0</td>\n",
       "      <td>0</td>\n",
       "      <td>0</td>\n",
       "      <td>...</td>\n",
       "      <td>0</td>\n",
       "      <td>0</td>\n",
       "      <td>0</td>\n",
       "      <td>0</td>\n",
       "      <td>0</td>\n",
       "      <td>0</td>\n",
       "      <td>0</td>\n",
       "      <td>0</td>\n",
       "      <td>0</td>\n",
       "      <td>0</td>\n",
       "    </tr>\n",
       "    <tr>\n",
       "      <th>3</th>\n",
       "      <td>-0.932944</td>\n",
       "      <td>-0.625925</td>\n",
       "      <td>0.420964</td>\n",
       "      <td>0</td>\n",
       "      <td>0</td>\n",
       "      <td>0</td>\n",
       "      <td>0</td>\n",
       "      <td>0</td>\n",
       "      <td>0</td>\n",
       "      <td>0</td>\n",
       "      <td>...</td>\n",
       "      <td>0</td>\n",
       "      <td>0</td>\n",
       "      <td>0</td>\n",
       "      <td>0</td>\n",
       "      <td>0</td>\n",
       "      <td>0</td>\n",
       "      <td>0</td>\n",
       "      <td>0</td>\n",
       "      <td>0</td>\n",
       "      <td>0</td>\n",
       "    </tr>\n",
       "    <tr>\n",
       "      <th>4</th>\n",
       "      <td>-0.932944</td>\n",
       "      <td>-0.948840</td>\n",
       "      <td>0.308499</td>\n",
       "      <td>0</td>\n",
       "      <td>0</td>\n",
       "      <td>0</td>\n",
       "      <td>0</td>\n",
       "      <td>0</td>\n",
       "      <td>0</td>\n",
       "      <td>0</td>\n",
       "      <td>...</td>\n",
       "      <td>0</td>\n",
       "      <td>0</td>\n",
       "      <td>0</td>\n",
       "      <td>0</td>\n",
       "      <td>0</td>\n",
       "      <td>0</td>\n",
       "      <td>0</td>\n",
       "      <td>0</td>\n",
       "      <td>0</td>\n",
       "      <td>0</td>\n",
       "    </tr>\n",
       "  </tbody>\n",
       "</table>\n",
       "<p>5 rows × 439 columns</p>\n",
       "</div>"
      ],
      "text/plain": [
       "   REPORTED_HOUR  DELAY(HRS)  DAY_OF_MONTH  DELAY_CATERGORY  \\\n",
       "0      -0.932944   -0.856579     -0.141357                0   \n",
       "1      -0.932944   -0.948840     -0.141357                0   \n",
       "2      -0.932944   -0.994971     -0.141357                0   \n",
       "3      -0.932944   -0.625925      0.420964                0   \n",
       "4      -0.932944   -0.948840      0.308499                0   \n",
       "\n",
       "   CIRT_SERT_ABBREVIATION_AB-CAB  CIRT_SERT_ABBREVIATION_AB-FTTH  \\\n",
       "0                              0                               0   \n",
       "1                              0                               0   \n",
       "2                              0                               0   \n",
       "3                              0                               0   \n",
       "4                              0                               0   \n",
       "\n",
       "   CIRT_SERT_ABBREVIATION_AB-WIRELESS ACCESS  CIRT_SERT_ABBREVIATION_ADSL  \\\n",
       "0                                          0                            0   \n",
       "1                                          0                            0   \n",
       "2                                          0                            0   \n",
       "3                                          0                            0   \n",
       "4                                          0                            0   \n",
       "\n",
       "   CIRT_SERT_ABBREVIATION_BB-INTERNET  \\\n",
       "0                                   0   \n",
       "1                                   0   \n",
       "2                                   0   \n",
       "3                                   0   \n",
       "4                                   0   \n",
       "\n",
       "   CIRT_SERT_ABBREVIATION_BB-INTERNET COPPER  ...  PROM_REGN_CODE_WKN  \\\n",
       "0                                          0  ...                   0   \n",
       "1                                          0  ...                   0   \n",
       "2                                          0  ...                   0   \n",
       "3                                          0  ...                   0   \n",
       "4                                          0  ...                   0   \n",
       "\n",
       "   PROM_REGN_CODE_WLW  PROM_REGN_CODE_WM  PROM_REGN_CODE_WP  \\\n",
       "0                   0                  0                  0   \n",
       "1                   0                  0                  0   \n",
       "2                   0                  0                  0   \n",
       "3                   0                  0                  0   \n",
       "4                   0                  0                  0   \n",
       "\n",
       "   PROM_REGN_CODE_WT  PROM_REGN_CODE_WTM  PROM_REGN_CODE_WU  \\\n",
       "0                  0                   0                  0   \n",
       "1                  0                   0                  0   \n",
       "2                  0                   0                  0   \n",
       "3                  0                   0                  0   \n",
       "4                  0                   0                  0   \n",
       "\n",
       "   PROM_REGN_CODE_WY  PROM_REGN_CODE_YA  PROM_REGN_CODE_YMH  \n",
       "0                  0                  0                   0  \n",
       "1                  0                  0                   0  \n",
       "2                  0                  0                   0  \n",
       "3                  0                  0                   0  \n",
       "4                  0                  0                   0  \n",
       "\n",
       "[5 rows x 439 columns]"
      ]
     },
     "execution_count": 189,
     "metadata": {},
     "output_type": "execute_result"
    }
   ],
   "source": [
    "df_main_f_procssed.head()"
   ]
  },
  {
   "cell_type": "code",
   "execution_count": 190,
   "metadata": {},
   "outputs": [],
   "source": [
    "df_features = df_main_f_procssed.drop(['DELAY_CATERGORY'],axis=1)"
   ]
  },
  {
   "cell_type": "code",
   "execution_count": 191,
   "metadata": {},
   "outputs": [],
   "source": [
    "df_target = df_main_f_procssed[['DELAY_CATERGORY']]"
   ]
  },
  {
   "cell_type": "code",
   "execution_count": 193,
   "metadata": {},
   "outputs": [
    {
     "data": {
      "text/plain": [
       "((684694, 438), (684694, 1))"
      ]
     },
     "execution_count": 193,
     "metadata": {},
     "output_type": "execute_result"
    }
   ],
   "source": [
    "df_features.shape, df_target.shape"
   ]
  },
  {
   "cell_type": "code",
   "execution_count": 195,
   "metadata": {},
   "outputs": [],
   "source": [
    "from sklearn.decomposition import PCA"
   ]
  },
  {
   "cell_type": "code",
   "execution_count": 196,
   "metadata": {},
   "outputs": [
    {
     "data": {
      "text/plain": [
       "PCA(copy=True, iterated_power='auto', n_components=None, random_state=None,\n",
       "    svd_solver='auto', tol=0.0, whiten=False)"
      ]
     },
     "execution_count": 196,
     "metadata": {},
     "output_type": "execute_result"
    }
   ],
   "source": [
    "pca = PCA()\n",
    "pca.fit(df_features)"
   ]
  },
  {
   "cell_type": "code",
   "execution_count": 200,
   "metadata": {},
   "outputs": [
    {
     "data": {
      "image/png": "[encoded data removed]",
      "text/plain": [
       "<Figure size 864x648 with 1 Axes>"
      ]
     },
     "metadata": {},
     "output_type": "display_data"
    }
   ],
   "source": [
    "plt.figure(figsize=(12,9))\n",
    "axis = plt.axes()\n",
    "axis.set_xticks(np.arange(0,400,10))\n",
    "plt.plot(range(1,(df_features.shape[1]+1)), pca.explained_variance_ratio_.cumsum(), marker='o', linestyle = '--')\n",
    "plt.title('Explained Variance by Component')\n",
    "plt.xlabel('Number of Components')\n",
    "plt.ylabel('Cumulative Variance')\n",
    "plt.show()"
   ]
  },
  {
   "cell_type": "code",
   "execution_count": 201,
   "metadata": {},
   "outputs": [],
   "source": [
    "# PCA = 10"
   ]
  },
  {
   "cell_type": "code",
   "execution_count": 202,
   "metadata": {},
   "outputs": [
    {
     "data": {
      "text/plain": [
       "PCA(copy=True, iterated_power='auto', n_components=10, random_state=None,\n",
       "    svd_solver='auto', tol=0.0, whiten=False)"
      ]
     },
     "execution_count": 202,
     "metadata": {},
     "output_type": "execute_result"
    }
   ],
   "source": [
    "pca = PCA(n_components=10)\n",
    "pca.fit(df_features)"
   ]
  },
  {
   "cell_type": "code",
   "execution_count": 203,
   "metadata": {},
   "outputs": [],
   "source": [
    "scores_pca = pca.transform(df_features)"
   ]
  },
  {
   "cell_type": "code",
   "execution_count": 204,
   "metadata": {},
   "outputs": [],
   "source": [
    "df_features_pca = pd.DataFrame(scores_pca, columns=['C1','C2','C3','C4','C5','C6','C7','C8','C9','C10'])"
   ]
  },
  {
   "cell_type": "code",
   "execution_count": 205,
   "metadata": {},
   "outputs": [
    {
     "data": {
      "text/html": [
       "<div>\n",
       "<style scoped>\n",
       "    .dataframe tbody tr th:only-of-type {\n",
       "        vertical-align: middle;\n",
       "    }\n",
       "\n",
       "    .dataframe tbody tr th {\n",
       "        vertical-align: top;\n",
       "    }\n",
       "\n",
       "    .dataframe thead th {\n",
       "        text-align: right;\n",
       "    }\n",
       "</style>\n",
       "<table border=\"1\" class=\"dataframe\">\n",
       "  <thead>\n",
       "    <tr style=\"text-align: right;\">\n",
       "      <th></th>\n",
       "      <th>C1</th>\n",
       "      <th>C2</th>\n",
       "      <th>C3</th>\n",
       "      <th>C4</th>\n",
       "      <th>C5</th>\n",
       "      <th>C6</th>\n",
       "      <th>C7</th>\n",
       "      <th>C8</th>\n",
       "      <th>C9</th>\n",
       "      <th>C10</th>\n",
       "    </tr>\n",
       "  </thead>\n",
       "  <tbody>\n",
       "    <tr>\n",
       "      <th>0</th>\n",
       "      <td>-1.275771</td>\n",
       "      <td>-0.325651</td>\n",
       "      <td>0.102751</td>\n",
       "      <td>-0.504372</td>\n",
       "      <td>-0.684039</td>\n",
       "      <td>0.017348</td>\n",
       "      <td>0.034713</td>\n",
       "      <td>-0.027225</td>\n",
       "      <td>-0.063221</td>\n",
       "      <td>0.003885</td>\n",
       "    </tr>\n",
       "    <tr>\n",
       "      <th>1</th>\n",
       "      <td>-1.338605</td>\n",
       "      <td>-0.336777</td>\n",
       "      <td>0.036356</td>\n",
       "      <td>-0.508717</td>\n",
       "      <td>-0.683778</td>\n",
       "      <td>0.019531</td>\n",
       "      <td>0.036161</td>\n",
       "      <td>-0.027101</td>\n",
       "      <td>-0.062908</td>\n",
       "      <td>0.003600</td>\n",
       "    </tr>\n",
       "    <tr>\n",
       "      <th>2</th>\n",
       "      <td>-1.370023</td>\n",
       "      <td>-0.342340</td>\n",
       "      <td>0.003159</td>\n",
       "      <td>-0.510889</td>\n",
       "      <td>-0.683647</td>\n",
       "      <td>0.020623</td>\n",
       "      <td>0.036885</td>\n",
       "      <td>-0.027039</td>\n",
       "      <td>-0.062752</td>\n",
       "      <td>0.003458</td>\n",
       "    </tr>\n",
       "    <tr>\n",
       "      <th>3</th>\n",
       "      <td>-1.208369</td>\n",
       "      <td>0.256909</td>\n",
       "      <td>0.259406</td>\n",
       "      <td>-0.478581</td>\n",
       "      <td>-0.677983</td>\n",
       "      <td>0.005591</td>\n",
       "      <td>0.028167</td>\n",
       "      <td>-0.026673</td>\n",
       "      <td>-0.064638</td>\n",
       "      <td>0.005846</td>\n",
       "    </tr>\n",
       "    <tr>\n",
       "      <th>4</th>\n",
       "      <td>-1.410352</td>\n",
       "      <td>0.107019</td>\n",
       "      <td>0.028892</td>\n",
       "      <td>-0.496774</td>\n",
       "      <td>-0.678410</td>\n",
       "      <td>0.014493</td>\n",
       "      <td>0.033821</td>\n",
       "      <td>-0.026411</td>\n",
       "      <td>-0.063416</td>\n",
       "      <td>0.004600</td>\n",
       "    </tr>\n",
       "  </tbody>\n",
       "</table>\n",
       "</div>"
      ],
      "text/plain": [
       "         C1        C2        C3        C4        C5        C6        C7  \\\n",
       "0 -1.275771 -0.325651  0.102751 -0.504372 -0.684039  0.017348  0.034713   \n",
       "1 -1.338605 -0.336777  0.036356 -0.508717 -0.683778  0.019531  0.036161   \n",
       "2 -1.370023 -0.342340  0.003159 -0.510889 -0.683647  0.020623  0.036885   \n",
       "3 -1.208369  0.256909  0.259406 -0.478581 -0.677983  0.005591  0.028167   \n",
       "4 -1.410352  0.107019  0.028892 -0.496774 -0.678410  0.014493  0.033821   \n",
       "\n",
       "         C8        C9       C10  \n",
       "0 -0.027225 -0.063221  0.003885  \n",
       "1 -0.027101 -0.062908  0.003600  \n",
       "2 -0.027039 -0.062752  0.003458  \n",
       "3 -0.026673 -0.064638  0.005846  \n",
       "4 -0.026411 -0.063416  0.004600  "
      ]
     },
     "execution_count": 205,
     "metadata": {},
     "output_type": "execute_result"
    }
   ],
   "source": [
    "df_features_pca.head()"
   ]
  },
  {
   "cell_type": "code",
   "execution_count": 206,
   "metadata": {},
   "outputs": [
    {
     "data": {
      "text/html": [
       "<div>\n",
       "<style scoped>\n",
       "    .dataframe tbody tr th:only-of-type {\n",
       "        vertical-align: middle;\n",
       "    }\n",
       "\n",
       "    .dataframe tbody tr th {\n",
       "        vertical-align: top;\n",
       "    }\n",
       "\n",
       "    .dataframe thead th {\n",
       "        text-align: right;\n",
       "    }\n",
       "</style>\n",
       "<table border=\"1\" class=\"dataframe\">\n",
       "  <thead>\n",
       "    <tr style=\"text-align: right;\">\n",
       "      <th></th>\n",
       "      <th>DELAY_CATERGORY</th>\n",
       "    </tr>\n",
       "  </thead>\n",
       "  <tbody>\n",
       "    <tr>\n",
       "      <th>0</th>\n",
       "      <td>0</td>\n",
       "    </tr>\n",
       "    <tr>\n",
       "      <th>1</th>\n",
       "      <td>0</td>\n",
       "    </tr>\n",
       "    <tr>\n",
       "      <th>2</th>\n",
       "      <td>0</td>\n",
       "    </tr>\n",
       "    <tr>\n",
       "      <th>3</th>\n",
       "      <td>0</td>\n",
       "    </tr>\n",
       "    <tr>\n",
       "      <th>4</th>\n",
       "      <td>0</td>\n",
       "    </tr>\n",
       "  </tbody>\n",
       "</table>\n",
       "</div>"
      ],
      "text/plain": [
       "   DELAY_CATERGORY\n",
       "0                0\n",
       "1                0\n",
       "2                0\n",
       "3                0\n",
       "4                0"
      ]
     },
     "execution_count": 206,
     "metadata": {},
     "output_type": "execute_result"
    }
   ],
   "source": [
    "df_target.head()"
   ]
  },
  {
   "cell_type": "code",
   "execution_count": 207,
   "metadata": {},
   "outputs": [],
   "source": [
    "from sklearn.model_selection import  train_test_split"
   ]
  },
  {
   "cell_type": "code",
   "execution_count": 208,
   "metadata": {},
   "outputs": [],
   "source": [
    "x_train, x_test, y_train, y_test = train_test_split(df_features_pca, df_target , test_size=0.2, random_state=0)"
   ]
  },
  {
   "cell_type": "code",
   "execution_count": 209,
   "metadata": {},
   "outputs": [],
   "source": [
    "import xgboost as xgb"
   ]
  },
  {
   "cell_type": "code",
   "execution_count": 210,
   "metadata": {},
   "outputs": [],
   "source": [
    "train = xgb.DMatrix(x_train,y_train)\n",
    "test = xgb.DMatrix(x_test,y_test)"
   ]
  },
  {
   "cell_type": "code",
   "execution_count": 211,
   "metadata": {},
   "outputs": [],
   "source": [
    "param = {\n",
    "    'max_depth':4,\n",
    "    'eta':0.2,\n",
    "    'objective':'multi:softmax',\n",
    "    'num_class':3\n",
    "}\n",
    "epochs = 100"
   ]
  },
  {
   "cell_type": "code",
   "execution_count": 212,
   "metadata": {},
   "outputs": [],
   "source": [
    "model = xgb.train(param,train,epochs)"
   ]
  },
  {
   "cell_type": "code",
   "execution_count": 213,
   "metadata": {},
   "outputs": [],
   "source": [
    "predictions = model.predict(test)"
   ]
  },
  {
   "cell_type": "code",
   "execution_count": 214,
   "metadata": {},
   "outputs": [],
   "source": [
    "from sklearn.metrics import accuracy_score"
   ]
  },
  {
   "cell_type": "code",
   "execution_count": 215,
   "metadata": {},
   "outputs": [
    {
     "data": {
      "text/plain": [
       "0.9821015196547368"
      ]
     },
     "execution_count": 215,
     "metadata": {},
     "output_type": "execute_result"
    }
   ],
   "source": [
    "accuracy_score(predictions,y_test)"
   ]
  },
  {
   "cell_type": "code",
   "execution_count": null,
   "metadata": {},
   "outputs": [],
   "source": []
  }
 ],
 "metadata": {
  "kernelspec": {
   "display_name": "Python 3",
   "language": "python",
   "name": "python3"
  },
  "language_info": {
   "codemirror_mode": {
    "name": "ipython",
    "version": 3
   },
   "file_extension": ".py",
   "mimetype": "text/x-python",
   "name": "python",
   "nbconvert_exporter": "python",
   "pygments_lexer": "ipython3",
   "version": "3.7.3"
  }
 },
 "nbformat": 4,
 "nbformat_minor": 4
}
